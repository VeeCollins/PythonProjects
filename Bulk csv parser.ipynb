{
 "cells": [
  {
   "cell_type": "code",
   "execution_count": 91,
   "id": "bbf31b21",
   "metadata": {},
   "outputs": [],
   "source": [
    "import os as os\n",
    "import numpy as np\n",
    "import pandas as pd"
   ]
  },
  {
   "cell_type": "markdown",
   "id": "b08492f4",
   "metadata": {},
   "source": [
    "## Finds all csv's within same directory as .ipynb and replace values within all strings"
   ]
  },
  {
   "cell_type": "code",
   "execution_count": 92,
   "id": "53c11dc3",
   "metadata": {},
   "outputs": [],
   "source": [
    "loc = os.getcwd() # find working directory"
   ]
  },
  {
   "cell_type": "code",
   "execution_count": 93,
   "id": "89de64bf",
   "metadata": {},
   "outputs": [],
   "source": [
    "allLocs = os.listdir(loc) # create list of all files in working directory"
   ]
  },
  {
   "cell_type": "code",
   "execution_count": 109,
   "id": "e6a8bf1a",
   "metadata": {},
   "outputs": [],
   "source": [
    "#create list with full file paths\n",
    "csvList = []\n",
    "for index,value in enumerate(allLocs): #enumerate iterator \n",
    "    if allLocs[index].find(\".csv\") !=-1: #-1 is false\n",
    "        csvList.append(loc + \"\\\\\" +allLocsNp[index])   "
   ]
  },
  {
   "cell_type": "code",
   "execution_count": 110,
   "id": "1ba09076",
   "metadata": {},
   "outputs": [],
   "source": [
    "#iteratively open files in list, replace , with ; and save back to original file\n",
    "for i,v in enumerate(csvList):\n",
    "    temp = pd.read_csv(v) #create temp pd dataframe\n",
    "    for i in temp:\n",
    "        try:\n",
    "            temp[i] = temp[i].apply(lambda x: x.replace(\",\", \";\"))\n",
    "        except:\n",
    "            continue\n",
    "    temp.to_csv(v, index=False)"
   ]
  }
 ],
 "metadata": {
  "kernelspec": {
   "display_name": "Python 3 (ipykernel)",
   "language": "python",
   "name": "python3"
  },
  "language_info": {
   "codemirror_mode": {
    "name": "ipython",
    "version": 3
   },
   "file_extension": ".py",
   "mimetype": "text/x-python",
   "name": "python",
   "nbconvert_exporter": "python",
   "pygments_lexer": "ipython3",
   "version": "3.9.12"
  }
 },
 "nbformat": 4,
 "nbformat_minor": 5
}
